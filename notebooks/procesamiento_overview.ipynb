{
 "cells": [
  {
   "cell_type": "code",
   "execution_count": null,
   "id": "90330baf-5a72-4415-9342-1210a4d5657d",
   "metadata": {},
   "outputs": [],
   "source": [
    "# Procesamiento overview"
   ]
  },
  {
   "cell_type": "code",
   "execution_count": 63,
   "id": "fee46127-fe41-4160-90f1-f1793b68f844",
   "metadata": {},
   "outputs": [],
   "source": [
    "import pandas as pd\n",
    "df = pd.read_csv(\"data/movies_limpios.csv\")"
   ]
  },
  {
   "cell_type": "code",
   "execution_count": 67,
   "id": "d7cb1deb-dc31-4254-a2c4-3c5a65ebc660",
   "metadata": {},
   "outputs": [
    {
     "name": "stdout",
     "output_type": "stream",
     "text": [
      "Nulos: 0\n",
      "Vacíos:  0\n"
     ]
    }
   ],
   "source": [
    "#Valores nulos y vacíos\n",
    "\n",
    "print(\"Nulos:\", df['overview'].isnull().sum())\n",
    "print(\"Vacíos:\", (df['overview'].str.strip()=='').sum())"
   ]
  },
  {
   "cell_type": "code",
   "execution_count": 87,
   "id": "5a3da4ea-a02e-4c3a-985d-32983c980513",
   "metadata": {},
   "outputs": [
    {
     "name": "stderr",
     "output_type": "stream",
     "text": [
      "[nltk_data] Downloading package punkt to /Users/juito/nltk_data...\n",
      "[nltk_data]   Package punkt is already up-to-date!\n",
      "[nltk_data] Downloading package stopwords to /Users/juito/nltk_data...\n",
      "[nltk_data]   Package stopwords is already up-to-date!\n"
     ]
    }
   ],
   "source": [
    "# Procesamiento con NLTK\n",
    "\n",
    "import nltk\n",
    "from nltk.tokenize.punkt import PunktSentenceTokenizer\n",
    "import string\n",
    "from nltk.corpus import stopwords\n",
    "import pickle\n",
    "\n",
    "nltk.download('punkt')\n",
    "nltk.download('stopwords')\n",
    "\n"
   ]
  },
  {
   "cell_type": "code",
   "execution_count": 109,
   "id": "85636dde-7466-4c13-8dca-79aa12a0b2f3",
   "metadata": {},
   "outputs": [
    {
     "data": {
      "text/html": [
       "<div>\n",
       "<style scoped>\n",
       "    .dataframe tbody tr th:only-of-type {\n",
       "        vertical-align: middle;\n",
       "    }\n",
       "\n",
       "    .dataframe tbody tr th {\n",
       "        vertical-align: top;\n",
       "    }\n",
       "\n",
       "    .dataframe thead th {\n",
       "        text-align: right;\n",
       "    }\n",
       "</style>\n",
       "<table border=\"1\" class=\"dataframe\">\n",
       "  <thead>\n",
       "    <tr style=\"text-align: right;\">\n",
       "      <th></th>\n",
       "      <th>title</th>\n",
       "      <th>overview_tokens</th>\n",
       "    </tr>\n",
       "  </thead>\n",
       "  <tbody>\n",
       "    <tr>\n",
       "      <th>0</th>\n",
       "      <td>Los aristogatos</td>\n",
       "      <td>[parís, anciana, millonaria, excéntrica, lleva...</td>\n",
       "    </tr>\n",
       "    <tr>\n",
       "      <th>1</th>\n",
       "      <td>Regreso al planeta de los simios</td>\n",
       "      <td>[nueva, nave, procedente, espacio, tiempo, ate...</td>\n",
       "    </tr>\n",
       "    <tr>\n",
       "      <th>2</th>\n",
       "      <td>Love Story</td>\n",
       "      <td>[historia, amor, dos, universitarios, harvard,...</td>\n",
       "    </tr>\n",
       "    <tr>\n",
       "      <th>3</th>\n",
       "      <td>Patton</td>\n",
       "      <td>[biografía, general, norteamericano, george, p...</td>\n",
       "    </tr>\n",
       "    <tr>\n",
       "      <th>4</th>\n",
       "      <td>Hola, mamá</td>\n",
       "      <td>[john, rubin, veterano, guerra, vietnam, vuelv...</td>\n",
       "    </tr>\n",
       "  </tbody>\n",
       "</table>\n",
       "</div>"
      ],
      "text/plain": [
       "                              title  \\\n",
       "0                   Los aristogatos   \n",
       "1  Regreso al planeta de los simios   \n",
       "2                        Love Story   \n",
       "3                            Patton   \n",
       "4                        Hola, mamá   \n",
       "\n",
       "                                     overview_tokens  \n",
       "0  [parís, anciana, millonaria, excéntrica, lleva...  \n",
       "1  [nueva, nave, procedente, espacio, tiempo, ate...  \n",
       "2  [historia, amor, dos, universitarios, harvard,...  \n",
       "3  [biografía, general, norteamericano, george, p...  \n",
       "4  [john, rubin, veterano, guerra, vietnam, vuelv...  "
      ]
     },
     "execution_count": 109,
     "metadata": {},
     "output_type": "execute_result"
    }
   ],
   "source": [
    "stop_words = set(stopwords.words('spanish'))\n",
    "from nltk.tokenize import RegexpTokenizer\n",
    "\n",
    "tokenizer_words = RegexpTokenizer(r'\\b\\w+\\b')\n",
    "\n",
    "def procesar_overview(texto):\n",
    "    if pd.isnull(texto):\n",
    "        return[]\n",
    "    #Pasamos a minúsculas\n",
    "    texto = texto.lower()\n",
    "    #Tokenizamos palabras\n",
    "    tokens = tokenizer_words.tokenize(texto)\n",
    "    # Filtramos tokens: Solo letras, sin stopwords, longitud >2\n",
    "    tokens = [t for t in tokens if t.isalpha() and t not in stop_words and len(t) >2]\n",
    "    return tokens\n",
    "    \n",
    "df['overview_tokens'] = df['overview'].apply(procesar_overview)\n",
    "\n",
    "df[['title','overview_tokens']].head()"
   ]
  },
  {
   "cell_type": "code",
   "execution_count": null,
   "id": "37da5bea-8c7e-43e8-abbd-4e22a4930d45",
   "metadata": {},
   "outputs": [],
   "source": [
    "# Guardamos progreso\n",
    "\n",
    "df.to_csv(\"data/movies_overview_tokens.csv\", index=False)"
   ]
  }
 ],
 "metadata": {
  "kernelspec": {
   "display_name": "Python 3 (ipykernel)",
   "language": "python",
   "name": "python3"
  },
  "language_info": {
   "codemirror_mode": {
    "name": "ipython",
    "version": 3
   },
   "file_extension": ".py",
   "mimetype": "text/x-python",
   "name": "python",
   "nbconvert_exporter": "python",
   "pygments_lexer": "ipython3",
   "version": "3.12.4"
  }
 },
 "nbformat": 4,
 "nbformat_minor": 5
}
