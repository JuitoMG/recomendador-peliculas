{
 "cells": [
  {
   "cell_type": "code",
   "execution_count": 3,
   "id": "1794f09c-6ef5-4d75-8d1a-d977f6d5890c",
   "metadata": {},
   "outputs": [
    {
     "ename": "SyntaxError",
     "evalue": "invalid syntax (3013574351.py, line 3)",
     "output_type": "error",
     "traceback": [
      "\u001b[0;36m  Cell \u001b[0;32mIn[3], line 3\u001b[0;36m\u001b[0m\n\u001b[0;31m    - Corrección formato países\u001b[0m\n\u001b[0m                 ^\u001b[0m\n\u001b[0;31mSyntaxError\u001b[0m\u001b[0;31m:\u001b[0m invalid syntax\n"
     ]
    }
   ],
   "source": [
    "# Limpieza y procesamiento de datos\n",
    "\n",
    "- Corrección formato países\n",
    "- Adecuar las columnas con valores nulos"
   ]
  },
  {
   "cell_type": "code",
   "execution_count": 7,
   "id": "0d8fe3a1-8f78-4dae-b4bf-8608c3e4219f",
   "metadata": {},
   "outputs": [
    {
     "data": {
      "text/html": [
       "<div>\n",
       "<style scoped>\n",
       "    .dataframe tbody tr th:only-of-type {\n",
       "        vertical-align: middle;\n",
       "    }\n",
       "\n",
       "    .dataframe tbody tr th {\n",
       "        vertical-align: top;\n",
       "    }\n",
       "\n",
       "    .dataframe thead th {\n",
       "        text-align: right;\n",
       "    }\n",
       "</style>\n",
       "<table border=\"1\" class=\"dataframe\">\n",
       "  <thead>\n",
       "    <tr style=\"text-align: right;\">\n",
       "      <th></th>\n",
       "      <th>id</th>\n",
       "      <th>title</th>\n",
       "      <th>original_title</th>\n",
       "      <th>production_countries</th>\n",
       "      <th>overview</th>\n",
       "      <th>tagline</th>\n",
       "      <th>release_date</th>\n",
       "      <th>original_language</th>\n",
       "      <th>genres</th>\n",
       "      <th>runtime</th>\n",
       "      <th>budget</th>\n",
       "      <th>revenue</th>\n",
       "      <th>cast</th>\n",
       "      <th>vote_average</th>\n",
       "      <th>director</th>\n",
       "      <th>keywords</th>\n",
       "    </tr>\n",
       "  </thead>\n",
       "  <tbody>\n",
       "    <tr>\n",
       "      <th>0</th>\n",
       "      <td>10112</td>\n",
       "      <td>Los aristogatos</td>\n",
       "      <td>The Aristocats</td>\n",
       "      <td>['United States of America']</td>\n",
       "      <td>1910. En París una anciana millonaria y excént...</td>\n",
       "      <td>Una extravagancia animada llena de melodías.</td>\n",
       "      <td>1970-12-24</td>\n",
       "      <td>en</td>\n",
       "      <td>Animación, Comedia, Familia, Aventura</td>\n",
       "      <td>78</td>\n",
       "      <td>4000000</td>\n",
       "      <td>191000000</td>\n",
       "      <td>['Phil Harris', 'Eva Gabor', 'Sterling Holloway']</td>\n",
       "      <td>7.287</td>\n",
       "      <td>Wolfgang Reitherman</td>\n",
       "      <td>['paris, france', 'return', 'butler', 'cartoon...</td>\n",
       "    </tr>\n",
       "    <tr>\n",
       "      <th>1</th>\n",
       "      <td>1685</td>\n",
       "      <td>Regreso al planeta de los simios</td>\n",
       "      <td>Beneath the Planet of the Apes</td>\n",
       "      <td>['United States of America']</td>\n",
       "      <td>Una nueva nave procedente del espacio y del ti...</td>\n",
       "      <td>El extraño mundo de \"El planeta de los simios\"...</td>\n",
       "      <td>1970-04-23</td>\n",
       "      <td>en</td>\n",
       "      <td>Aventura, Ciencia ficción, Misterio</td>\n",
       "      <td>95</td>\n",
       "      <td>3000000</td>\n",
       "      <td>18999718</td>\n",
       "      <td>['James Franciscus', 'Kim Hunter', 'Maurice Ev...</td>\n",
       "      <td>6.147</td>\n",
       "      <td>Ted Post</td>\n",
       "      <td>['dystopia', 'mutant', 'distant future', 'astr...</td>\n",
       "    </tr>\n",
       "    <tr>\n",
       "      <th>2</th>\n",
       "      <td>9062</td>\n",
       "      <td>Love Story</td>\n",
       "      <td>Love Story</td>\n",
       "      <td>['United States of America']</td>\n",
       "      <td>Historia de amor de dos universitarios de Harv...</td>\n",
       "      <td>Amor significa no tener que pedir perdón.</td>\n",
       "      <td>1970-12-16</td>\n",
       "      <td>en</td>\n",
       "      <td>Romance, Drama</td>\n",
       "      <td>99</td>\n",
       "      <td>2200000</td>\n",
       "      <td>136400000</td>\n",
       "      <td>['Ali MacGraw', \"Ryan O'Neal\", 'John Marley']</td>\n",
       "      <td>6.821</td>\n",
       "      <td>Arthur Hiller</td>\n",
       "      <td>['based on novel or book', 'harvard university...</td>\n",
       "    </tr>\n",
       "    <tr>\n",
       "      <th>3</th>\n",
       "      <td>11202</td>\n",
       "      <td>Patton</td>\n",
       "      <td>Patton</td>\n",
       "      <td>['United States of America']</td>\n",
       "      <td>Biografía del general norteamericano George S....</td>\n",
       "      <td>El guerrero rebelde.</td>\n",
       "      <td>1970-01-25</td>\n",
       "      <td>en</td>\n",
       "      <td>Bélica, Drama, Historia</td>\n",
       "      <td>172</td>\n",
       "      <td>12000000</td>\n",
       "      <td>89800000</td>\n",
       "      <td>['George C. Scott', 'Stephen Young', 'Frank La...</td>\n",
       "      <td>7.487</td>\n",
       "      <td>Franklin J. Schaffner</td>\n",
       "      <td>['general', 'steel helmet', 'allies', 'world w...</td>\n",
       "    </tr>\n",
       "    <tr>\n",
       "      <th>4</th>\n",
       "      <td>42589</td>\n",
       "      <td>Hola, mamá</td>\n",
       "      <td>Hi, Mom!</td>\n",
       "      <td>['United States of America']</td>\n",
       "      <td>John Rubin, un veterano de la guerra del Vietn...</td>\n",
       "      <td>NaN</td>\n",
       "      <td>1970-04-27</td>\n",
       "      <td>en</td>\n",
       "      <td>Comedia, Crimen</td>\n",
       "      <td>88</td>\n",
       "      <td>0</td>\n",
       "      <td>0</td>\n",
       "      <td>['Robert De Niro', 'Jennifer Salt', 'Allen Gar...</td>\n",
       "      <td>6.293</td>\n",
       "      <td>Brian De Palma</td>\n",
       "      <td>['new york city', 'pornography', 'black panthe...</td>\n",
       "    </tr>\n",
       "  </tbody>\n",
       "</table>\n",
       "</div>"
      ],
      "text/plain": [
       "      id                             title                  original_title  \\\n",
       "0  10112                   Los aristogatos                  The Aristocats   \n",
       "1   1685  Regreso al planeta de los simios  Beneath the Planet of the Apes   \n",
       "2   9062                        Love Story                      Love Story   \n",
       "3  11202                            Patton                          Patton   \n",
       "4  42589                        Hola, mamá                        Hi, Mom!   \n",
       "\n",
       "           production_countries  \\\n",
       "0  ['United States of America']   \n",
       "1  ['United States of America']   \n",
       "2  ['United States of America']   \n",
       "3  ['United States of America']   \n",
       "4  ['United States of America']   \n",
       "\n",
       "                                            overview  \\\n",
       "0  1910. En París una anciana millonaria y excént...   \n",
       "1  Una nueva nave procedente del espacio y del ti...   \n",
       "2  Historia de amor de dos universitarios de Harv...   \n",
       "3  Biografía del general norteamericano George S....   \n",
       "4  John Rubin, un veterano de la guerra del Vietn...   \n",
       "\n",
       "                                             tagline release_date  \\\n",
       "0       Una extravagancia animada llena de melodías.   1970-12-24   \n",
       "1  El extraño mundo de \"El planeta de los simios\"...   1970-04-23   \n",
       "2          Amor significa no tener que pedir perdón.   1970-12-16   \n",
       "3                               El guerrero rebelde.   1970-01-25   \n",
       "4                                                NaN   1970-04-27   \n",
       "\n",
       "  original_language                                 genres  runtime    budget  \\\n",
       "0                en  Animación, Comedia, Familia, Aventura       78   4000000   \n",
       "1                en    Aventura, Ciencia ficción, Misterio       95   3000000   \n",
       "2                en                         Romance, Drama       99   2200000   \n",
       "3                en                Bélica, Drama, Historia      172  12000000   \n",
       "4                en                        Comedia, Crimen       88         0   \n",
       "\n",
       "     revenue                                               cast  vote_average  \\\n",
       "0  191000000  ['Phil Harris', 'Eva Gabor', 'Sterling Holloway']         7.287   \n",
       "1   18999718  ['James Franciscus', 'Kim Hunter', 'Maurice Ev...         6.147   \n",
       "2  136400000      ['Ali MacGraw', \"Ryan O'Neal\", 'John Marley']         6.821   \n",
       "3   89800000  ['George C. Scott', 'Stephen Young', 'Frank La...         7.487   \n",
       "4          0  ['Robert De Niro', 'Jennifer Salt', 'Allen Gar...         6.293   \n",
       "\n",
       "                director                                           keywords  \n",
       "0    Wolfgang Reitherman  ['paris, france', 'return', 'butler', 'cartoon...  \n",
       "1               Ted Post  ['dystopia', 'mutant', 'distant future', 'astr...  \n",
       "2          Arthur Hiller  ['based on novel or book', 'harvard university...  \n",
       "3  Franklin J. Schaffner  ['general', 'steel helmet', 'allies', 'world w...  \n",
       "4         Brian De Palma  ['new york city', 'pornography', 'black panthe...  "
      ]
     },
     "execution_count": 7,
     "metadata": {},
     "output_type": "execute_result"
    }
   ],
   "source": [
    "import pandas as pd\n",
    "df = pd.read_csv(\"../data/processed/movies_merged.csv\")\n",
    "df.head()"
   ]
  },
  {
   "cell_type": "code",
   "execution_count": 11,
   "id": "48f0c530-1d32-499f-86a8-bf39d4d75cea",
   "metadata": {},
   "outputs": [
    {
     "name": "stdout",
     "output_type": "stream",
     "text": [
      "[\"'Australia'\", \"'Australia']\", \"'Belgium'\", \"'Brazil'\", \"'Brazil']\", \"'Canada'\", \"'Canada']\", \"'China'\", \"'Colombia'\", \"'Cyprus']\", \"'Czech Republic']\", \"'Denmark'\", \"'Ecuador'\", \"'Finland'\", \"'Finland']\", \"'France'\", \"'France']\", \"'Germany'\", \"'Germany']\", \"'Hong Kong'\", \"'Hong Kong']\", \"'Ireland']\", \"'Italy'\", \"'Italy']\", \"'Japan'\", \"'Japan']\", \"'Liechtenstein'\", \"'Luxembourg']\", \"'Mexico'\", \"'Mexico']\", \"'Morocco'\", \"'Netherlands']\", \"'New Zealand'\", \"'Norway'\", \"'Peru'\", \"'Poland'\", \"'Poland']\", \"'Puerto Rico']\", \"'Romania'\", \"'Romania']\", \"'South Africa']\", \"'Soviet Union'\", \"'Soviet Union']\", \"'Spain'\", \"'Spain']\", \"'Sweden'\", \"'Sweden']\", \"'Switzerland'\", \"'Taiwan']\", \"'Thailand']\", \"'Tunisia']\", \"'Turkey']\", \"'United Arab Emirates'\", \"'United Kingdom'\", \"'United Kingdom']\", \"'United States of America'\", \"'United States of America']\", \"'Yugoslavia']\", \"['Argentina'\", \"['Argentina']\", \"['Australia'\", \"['Australia']\", \"['Austria'\", \"['Belgium'\", \"['Brazil'\", \"['Bulgaria'\", \"['Canada'\", \"['Canada']\", \"['Chile'\", \"['China'\", \"['China']\", \"['Colombia'\", \"['Colombia']\", \"['Czech Republic'\", \"['Czechoslovakia'\", \"['Czechoslovakia']\", \"['Denmark'\", \"['Denmark']\", \"['East Germany'\", \"['East Germany']\", \"['Egypt']\", \"['Estonia'\", \"['Finland'\", \"['Finland']\", \"['France'\", \"['France']\", \"['Germany'\", \"['Germany']\", \"['Hong Kong'\", \"['Hong Kong']\", \"['Hungary']\", \"['India'\", \"['India']\", \"['Indonesia']\", \"['Iran']\", \"['Ireland'\", \"['Ireland']\", \"['Italy'\", \"['Italy']\", \"['Japan'\", \"['Japan']\", \"['Latvia'\", \"['Liechtenstein'\", \"['Mexico'\", \"['Mexico']\", \"['Mongolia']\", \"['New Zealand'\", \"['New Zealand']\", \"['Norway'\", \"['Philippines']\", \"['Poland'\", \"['Poland']\", \"['Portugal'\", \"['Romania'\", \"['Russia']\", \"['Singapore'\", \"['South Africa']\", \"['South Korea']\", \"['Soviet Union'\", \"['Soviet Union']\", \"['Spain'\", \"['Spain']\", \"['Sweden']\", \"['Switzerland'\", \"['Taiwan']\", \"['Thailand']\", \"['Turkey'\", \"['United Kingdom'\", \"['United Kingdom']\", \"['United States of America'\", \"['United States of America']\", \"['Yugoslavia']\", '[]']\n"
     ]
    }
   ],
   "source": [
    "# Lista actual de países únicos\n",
    "\n",
    "paises_unicos = set()\n",
    "\n",
    "for entry in df[\"production_countries\"].dropna():\n",
    "    for pais in entry.split(\",\"):\n",
    "        paises_unicos.add(pais.strip())\n",
    "\n",
    "print(sorted(paises_unicos))"
   ]
  },
  {
   "cell_type": "code",
   "execution_count": 17,
   "id": "396f6893-462d-408f-b5bb-3b4f9233dd23",
   "metadata": {},
   "outputs": [],
   "source": [
    "# Limpieza de países\n",
    "\n",
    "import ast\n",
    "\n",
    "def normalizar_paises(valor):\n",
    "    try:\n",
    "        lista = ast.literal_eval(valor)\n",
    "        if isinstance(lista, list):\n",
    "            return [pais.strip().strip(\"'\").strip('\"') for pais in lista if pais]\n",
    "    except (ValueError, SyntaxError):\n",
    "        return []\n",
    "    return []\n",
    "\n",
    "df[\"production_countries\"] = df[\"production_countries\"].fillna(\"[]\")\n",
    "df[\"production_countries\"] = df[\"production_countries\"].apply(normalizar_paises)\n",
    "\n",
    "df[\"main_country\"] = df[\"production_countries\"].apply(lambda x: x[0] if x else None)"
   ]
  },
  {
   "cell_type": "code",
   "execution_count": 27,
   "id": "c73dd2bf-2a68-4f1c-8c1c-94a4762c9835",
   "metadata": {},
   "outputs": [
    {
     "name": "stdout",
     "output_type": "stream",
     "text": [
      "['Argentina', 'Australia', 'Austria', 'Belgium', 'Brazil', 'Bulgaria', 'Canada', 'Chile', 'China', 'Colombia', 'Cyprus', 'Czech Republic', 'Czechoslovakia', 'Denmark', 'East Germany', 'Ecuador', 'Egypt', 'Estonia', 'Finland', 'France', 'Germany', 'Hong Kong', 'Hungary', 'India', 'Indonesia', 'Iran', 'Ireland', 'Italy', 'Japan', 'Latvia', 'Liechtenstein', 'Luxembourg', 'Mexico', 'Mongolia', 'Morocco', 'Netherlands', 'New Zealand', 'Norway', 'Peru', 'Philippines', 'Poland', 'Portugal', 'Puerto Rico', 'Romania', 'Russia', 'Singapore', 'South Africa', 'South Korea', 'Soviet Union', 'Spain', 'Sweden', 'Switzerland', 'Taiwan', 'Thailand', 'Tunisia', 'Turkey', 'United Arab Emirates', 'United Kingdom', 'United States of America', 'Yugoslavia']\n"
     ]
    }
   ],
   "source": [
    "#Mostramos la lista actualizada de países\n",
    "\n",
    "paises_unicos = set()\n",
    "for entry in df[\"production_countries\"].dropna():\n",
    "    for pais in entry: \n",
    "        paises_unicos.add(pais.strip())\n",
    "\n",
    "print(sorted(paises_unicos))"
   ]
  },
  {
   "cell_type": "code",
   "execution_count": 29,
   "id": "e382e0d8-339c-4273-9551-8af5bf5031ac",
   "metadata": {},
   "outputs": [
    {
     "data": {
      "image/png": "[encoded data removed]",
      "text/plain": [
       "<Figure size 1200x600 with 1 Axes>"
      ]
     },
     "metadata": {},
     "output_type": "display_data"
    }
   ],
   "source": [
    "import matplotlib.pyplot as plt\n",
    "from collections import Counter\n",
    "\n",
    "all_countries = []\n",
    "for entry in df[\"production_countries\"].dropna():\n",
    "    all_countries.extend([pais.strip() for pais in entry])\n",
    "\n",
    "country_counts = Counter(all_countries)\n",
    "\n",
    "df_countries = pd.DataFrame(country_counts.items(), columns=[\"País\", \"Películas\"])\n",
    "df_countries = df_countries.sort_values(\"Películas\", ascending=False)\n",
    "\n",
    "plt.figure(figsize=(12,6))\n",
    "plt.bar(df_countries[\"País\"], df_countries[\"Películas\"], color=\"mediumseagreen\")\n",
    "plt.xticks(rotation=90)\n",
    "plt.title(\"Número de películas por país\")\n",
    "plt.ylabel(\"Cantidad de películas\")\n",
    "plt.xlabel(\"País\")\n",
    "plt.tight_layout()\n",
    "plt.show()\n",
    "           \n",
    "    "
   ]
  },
  {
   "cell_type": "code",
   "execution_count": 31,
   "id": "7cfe549e-3e8c-4fd5-963b-d14481995cfb",
   "metadata": {},
   "outputs": [
    {
     "data": {
      "text/html": [
       "<div>\n",
       "<style scoped>\n",
       "    .dataframe tbody tr th:only-of-type {\n",
       "        vertical-align: middle;\n",
       "    }\n",
       "\n",
       "    .dataframe tbody tr th {\n",
       "        vertical-align: top;\n",
       "    }\n",
       "\n",
       "    .dataframe thead th {\n",
       "        text-align: right;\n",
       "    }\n",
       "</style>\n",
       "<table border=\"1\" class=\"dataframe\">\n",
       "  <thead>\n",
       "    <tr style=\"text-align: right;\">\n",
       "      <th></th>\n",
       "      <th>País</th>\n",
       "      <th>Películas</th>\n",
       "    </tr>\n",
       "  </thead>\n",
       "  <tbody>\n",
       "    <tr>\n",
       "      <th>0</th>\n",
       "      <td>United States of America</td>\n",
       "      <td>645</td>\n",
       "    </tr>\n",
       "    <tr>\n",
       "      <th>6</th>\n",
       "      <td>United Kingdom</td>\n",
       "      <td>133</td>\n",
       "    </tr>\n",
       "    <tr>\n",
       "      <th>4</th>\n",
       "      <td>France</td>\n",
       "      <td>71</td>\n",
       "    </tr>\n",
       "    <tr>\n",
       "      <th>5</th>\n",
       "      <td>Germany</td>\n",
       "      <td>64</td>\n",
       "    </tr>\n",
       "    <tr>\n",
       "      <th>1</th>\n",
       "      <td>Italy</td>\n",
       "      <td>61</td>\n",
       "    </tr>\n",
       "    <tr>\n",
       "      <th>3</th>\n",
       "      <td>Japan</td>\n",
       "      <td>59</td>\n",
       "    </tr>\n",
       "    <tr>\n",
       "      <th>15</th>\n",
       "      <td>Hong Kong</td>\n",
       "      <td>40</td>\n",
       "    </tr>\n",
       "    <tr>\n",
       "      <th>9</th>\n",
       "      <td>Spain</td>\n",
       "      <td>31</td>\n",
       "    </tr>\n",
       "    <tr>\n",
       "      <th>27</th>\n",
       "      <td>Canada</td>\n",
       "      <td>29</td>\n",
       "    </tr>\n",
       "    <tr>\n",
       "      <th>13</th>\n",
       "      <td>India</td>\n",
       "      <td>21</td>\n",
       "    </tr>\n",
       "    <tr>\n",
       "      <th>2</th>\n",
       "      <td>Mexico</td>\n",
       "      <td>14</td>\n",
       "    </tr>\n",
       "    <tr>\n",
       "      <th>38</th>\n",
       "      <td>China</td>\n",
       "      <td>13</td>\n",
       "    </tr>\n",
       "    <tr>\n",
       "      <th>33</th>\n",
       "      <td>Australia</td>\n",
       "      <td>13</td>\n",
       "    </tr>\n",
       "    <tr>\n",
       "      <th>21</th>\n",
       "      <td>Sweden</td>\n",
       "      <td>10</td>\n",
       "    </tr>\n",
       "    <tr>\n",
       "      <th>32</th>\n",
       "      <td>South Korea</td>\n",
       "      <td>8</td>\n",
       "    </tr>\n",
       "  </tbody>\n",
       "</table>\n",
       "</div>"
      ],
      "text/plain": [
       "                        País  Películas\n",
       "0   United States of America        645\n",
       "6             United Kingdom        133\n",
       "4                     France         71\n",
       "5                    Germany         64\n",
       "1                      Italy         61\n",
       "3                      Japan         59\n",
       "15                 Hong Kong         40\n",
       "9                      Spain         31\n",
       "27                    Canada         29\n",
       "13                     India         21\n",
       "2                     Mexico         14\n",
       "38                     China         13\n",
       "33                 Australia         13\n",
       "21                    Sweden         10\n",
       "32               South Korea          8"
      ]
     },
     "execution_count": 31,
     "metadata": {},
     "output_type": "execute_result"
    }
   ],
   "source": [
    "df_countries.head(15)"
   ]
  },
  {
   "cell_type": "code",
   "execution_count": 33,
   "id": "b7b48cd6-1d09-4610-9a99-d5d53eb41912",
   "metadata": {},
   "outputs": [
    {
     "data": {
      "text/plain": [
       "tagline                 0.637\n",
       "overview                0.143\n",
       "main_country            0.006\n",
       "director                0.002\n",
       "genres                  0.002\n",
       "production_countries    0.000\n",
       "release_date            0.000\n",
       "original_language       0.000\n",
       "title                   0.000\n",
       "runtime                 0.000\n",
       "budget                  0.000\n",
       "revenue                 0.000\n",
       "cast                    0.000\n",
       "vote_average            0.000\n",
       "original_title          0.000\n",
       "keywords                0.000\n",
       "id                      0.000\n",
       "dtype: float64"
      ]
     },
     "execution_count": 33,
     "metadata": {},
     "output_type": "execute_result"
    }
   ],
   "source": [
    "# Solución a los valores nulos\n",
    "\n",
    "df.isnull().mean().sort_values(ascending=False)"
   ]
  },
  {
   "cell_type": "code",
   "execution_count": 35,
   "id": "8badaef8-3bff-409c-b7c5-497aea8feb28",
   "metadata": {},
   "outputs": [
    {
     "data": {
      "text/plain": [
       "tagline         63.7\n",
       "overview        14.3\n",
       "main_country     0.6\n",
       "director         0.2\n",
       "genres           0.2\n",
       "dtype: float64"
      ]
     },
     "execution_count": 35,
     "metadata": {},
     "output_type": "execute_result"
    }
   ],
   "source": [
    "null_percent = df.isnull().mean().sort_values(ascending=False)*100\n",
    "null_percent[null_percent > 0].round(2)"
   ]
  },
  {
   "cell_type": "code",
   "execution_count": 41,
   "id": "72128699-409a-4b78-91aa-9be9a9dddae7",
   "metadata": {},
   "outputs": [],
   "source": [
    "# Tagline tiene un porcentaje muy alto de nulos. Es mejor prescindir de esta columna.\n",
    "# Overview es importante, rellenaremos los huecos.\n",
    "# Main_country y director tienen muy bajo porcentaje nulo, también lo rellenaremos.\n",
    "# Con Genres hay que asegurarse de que todos los valores sean listas válidas. "
   ]
  },
  {
   "cell_type": "code",
   "execution_count": 43,
   "id": "f479c907-2bdd-4fc3-924a-2d7b59a8c6d8",
   "metadata": {},
   "outputs": [
    {
     "data": {
      "text/plain": [
       "overview                0.143\n",
       "main_country            0.006\n",
       "genres                  0.002\n",
       "director                0.002\n",
       "id                      0.000\n",
       "title                   0.000\n",
       "original_title          0.000\n",
       "production_countries    0.000\n",
       "release_date            0.000\n",
       "original_language       0.000\n",
       "runtime                 0.000\n",
       "budget                  0.000\n",
       "revenue                 0.000\n",
       "cast                    0.000\n",
       "vote_average            0.000\n",
       "keywords                0.000\n",
       "dtype: float64"
      ]
     },
     "execution_count": 43,
     "metadata": {},
     "output_type": "execute_result"
    }
   ],
   "source": [
    "# Tagline\n",
    "df.drop(columns=[\"tagline\"], inplace=True)\n",
    "\n",
    "df.isnull().mean().sort_values(ascending=False)\n"
   ]
  },
  {
   "cell_type": "code",
   "execution_count": 45,
   "id": "f52d4535-64d8-44cf-a885-602dd11d1786",
   "metadata": {},
   "outputs": [
    {
     "data": {
      "text/plain": [
       "main_country            0.006\n",
       "genres                  0.002\n",
       "director                0.002\n",
       "id                      0.000\n",
       "title                   0.000\n",
       "original_title          0.000\n",
       "production_countries    0.000\n",
       "overview                0.000\n",
       "release_date            0.000\n",
       "original_language       0.000\n",
       "runtime                 0.000\n",
       "budget                  0.000\n",
       "revenue                 0.000\n",
       "cast                    0.000\n",
       "vote_average            0.000\n",
       "keywords                0.000\n",
       "dtype: float64"
      ]
     },
     "execution_count": 45,
     "metadata": {},
     "output_type": "execute_result"
    }
   ],
   "source": [
    "# Overview\n",
    "\n",
    "df[\"overview\"] = df[\"overview\"].fillna(\"Sin descripción disponible.\")\n",
    "\n",
    "df.isnull().mean().sort_values(ascending=False)"
   ]
  },
  {
   "cell_type": "code",
   "execution_count": 47,
   "id": "ea0b26a5-809f-4e2d-80c9-f40ee878a9d8",
   "metadata": {},
   "outputs": [
    {
     "data": {
      "text/plain": [
       "genres                  0.002\n",
       "director                0.002\n",
       "id                      0.000\n",
       "title                   0.000\n",
       "original_title          0.000\n",
       "production_countries    0.000\n",
       "overview                0.000\n",
       "release_date            0.000\n",
       "original_language       0.000\n",
       "runtime                 0.000\n",
       "budget                  0.000\n",
       "revenue                 0.000\n",
       "cast                    0.000\n",
       "vote_average            0.000\n",
       "keywords                0.000\n",
       "main_country            0.000\n",
       "dtype: float64"
      ]
     },
     "execution_count": 47,
     "metadata": {},
     "output_type": "execute_result"
    }
   ],
   "source": [
    "# main_country\n",
    "\n",
    "df[\"main_country\"] = df[\"main_country\"].fillna(\"Unknown\")\n",
    "\n",
    "df.isnull().mean().sort_values(ascending=False)"
   ]
  },
  {
   "cell_type": "code",
   "execution_count": 49,
   "id": "8f6e4658-3a9f-4b1c-a025-e54b14b60f76",
   "metadata": {},
   "outputs": [
    {
     "data": {
      "text/plain": [
       "genres                  0.002\n",
       "id                      0.000\n",
       "title                   0.000\n",
       "original_title          0.000\n",
       "production_countries    0.000\n",
       "overview                0.000\n",
       "release_date            0.000\n",
       "original_language       0.000\n",
       "runtime                 0.000\n",
       "budget                  0.000\n",
       "revenue                 0.000\n",
       "cast                    0.000\n",
       "vote_average            0.000\n",
       "director                0.000\n",
       "keywords                0.000\n",
       "main_country            0.000\n",
       "dtype: float64"
      ]
     },
     "execution_count": 49,
     "metadata": {},
     "output_type": "execute_result"
    }
   ],
   "source": [
    "# director\n",
    "\n",
    "df[\"director\"] = df[\"director\"].fillna(\"Unknown\")\n",
    "\n",
    "df.isnull().mean().sort_values(ascending=False)"
   ]
  },
  {
   "cell_type": "code",
   "execution_count": 63,
   "id": "80f9b042-8afd-4942-825d-da60afc24527",
   "metadata": {},
   "outputs": [
    {
     "data": {
      "text/plain": [
       "id                      0.0\n",
       "title                   0.0\n",
       "original_title          0.0\n",
       "production_countries    0.0\n",
       "overview                0.0\n",
       "release_date            0.0\n",
       "original_language       0.0\n",
       "genres                  0.0\n",
       "runtime                 0.0\n",
       "budget                  0.0\n",
       "revenue                 0.0\n",
       "cast                    0.0\n",
       "vote_average            0.0\n",
       "director                0.0\n",
       "keywords                0.0\n",
       "main_country            0.0\n",
       "dtype: float64"
      ]
     },
     "execution_count": 63,
     "metadata": {},
     "output_type": "execute_result"
    }
   ],
   "source": [
    "df[\"genres\"] = df[\"genres\"].apply(lambda x: x if isinstance(x, list) else [])\n",
    "\n",
    "df.isnull().mean().sort_values(ascending=False)"
   ]
  },
  {
   "cell_type": "code",
   "execution_count": 61,
   "id": "82edc7ac-446c-4cbc-9b06-e604858e36a4",
   "metadata": {},
   "outputs": [],
   "source": [
    "# Guardamos progreso\n",
    "import os\n",
    "os.makedirs(\"data\", exist_ok=True)\n",
    "df.to_csv(\"data/movies_paso1_limpieza.csv\", index=False)"
   ]
  },
  {
   "cell_type": "code",
   "execution_count": 67,
   "id": "d7b3dd8e-7324-48df-89d2-1643c4bd9b7d",
   "metadata": {},
   "outputs": [
    {
     "name": "stdout",
     "output_type": "stream",
     "text": [
      "director\n",
      "Gordon Douglas         7\n",
      "Akira Kurosawa         4\n",
      "Anthony Mann           4\n",
      "John Sturges           3\n",
      "Jesús Franco           3\n",
      "                      ..\n",
      "Chris Wedge            1\n",
      "Andrew Niccol          1\n",
      "Ang Lee                1\n",
      "Darren Lynn Bousman    1\n",
      "Zhang Yimou            1\n",
      "Name: count, Length: 859, dtype: int64 \n",
      "\n",
      "['Aaron Norris', 'Abbas Kiarostami', 'Abel Ferrara', 'Abraham Polonsky', 'Adam Elliot', 'Adam Rehmeier', 'Adam Shankman', 'Adam Simon', 'Adam Stern', 'Adam Wingard', 'Adil El Arbi', 'Adrian Lyne', 'Agnieszka Holland', 'Aki Kaurismäki', 'Akira Kurosawa', 'Alain Robbe-Grillet', 'Alan J. Pakula', 'Alan Le May', 'Alan Mak Siu-Fai', 'Albert Pyun', 'Alberto Bevilacqua', 'Alejandro Jodorowsky', 'Alessandro Genovesi', 'Alex Garland', 'Alexander Hall', 'Alexandre de La Patellière', 'Alfred E. Green', 'Alfred Hitchcock', 'Allan Dwan', 'Allan Moyle', 'Allen Kool', 'Alvin Rakoff', 'Amy Heckerling', 'Andrew Adamson', 'Andrew Bergman', 'Andrew Douglas', 'Andrew Niccol', 'Andrew V. McLaglen', 'Andrzej Bartkowiak', 'André Cayatte', 'Andy Edwards', 'Andy Milligan', 'Andy Sidaris', 'Andy Tennant', 'Ang Lee', 'Angela Robinson', 'Anthony Asquith', 'Anthony Chan Yau', 'Anthony Mann', 'Anthony Schatteman', 'Antonio Margheriti', 'Antony Balch', 'Ariel Vromen', 'Ariel Winograd', 'Arkasha Stevenson', 'Arthur Allan Seidelman', 'Arthur Hiller', 'Arthur Lubin', 'Arthur Marks', 'Arthur Penn', 'Baim Wong', 'Banmei Takahashi', 'Barbara Kopple', 'Barbara Loden', 'Barbet Schroeder', 'Barry Jenkins', 'Basil Dearden', 'Ben Smallbone', 'Benjamin Brewer', 'Bennett Miller', 'Benny Chan Muk-Sing', 'Bent Christensen', 'Bernardo Bertolucci', 'Bertrand Blier', 'Bigas Luna', 'Bilguun Chuluundorj', 'Bill Bixby', 'Bill Kopp', 'Bill Milling', 'Bill Murray', 'Bill Paxton', 'Bille Woodruff', 'Billy Wilder', 'Blackie Ko', 'Blake Edwards', 'Bob Clark', 'Bob Hathcock', 'Bob Kelljan', 'Bob Logan', 'Bob Rafelson', 'Bob Shellhorn', 'Bobby Bonifacio', 'Brad Turner', 'Brady Corbet', 'Brandon Slagle', 'Brandon Vietti', 'Breck Eisner', 'Brent Shields', 'Bretaigne Windust', 'Brian De Palma', 'Brian G. Hutton', 'Brian Levant', 'Brian Smith', 'Brian Yuzna', 'Bruce Hunt', 'Bruce Malmuth', 'Burt Kennedy', 'Byron Haskin', 'Calvin Morie McCarthy', 'Cameron Cairnes', 'Cameron Crowe', 'Carles Torrens', 'Carlson Young', 'Cedric Sundstrom', 'Chander Vohra', 'Chang Cheh', 'Charles August Nichols', 'Charles Barton', 'Charles Crichton', 'Charles Frend', 'Charles Lamont', 'Charles Walters', 'Charlotte Zwerin', 'Chen Kaige', 'Cheng Kang', 'Cheng Siyi', 'Chris Columbus', 'Chris Renaud', 'Chris Sanders', 'Chris Wedge', 'Christian Carion', 'Christophe Honoré', 'Christopher Nolan', 'Chuck Jones', 'Clare Kilner', 'Clarence Brown', 'Clarence Ford', 'Claude Chabrol', 'Claude Sautet', 'Claudio Fragasso', 'Claudio Fäh', 'Clint Eastwood', 'Clive Barker', 'Clyde Geronimi', 'Colm McCarthy', 'Compton Bennett', 'Coralie Fargeat', 'Corey Yuen Kwai', 'Cory Edwards', 'Craig R. Baxley', 'Curtis Hanson', 'D.J. Caruso', 'Daisuke Nishio', 'Damian Mc Carthy', 'Damien Leone', 'Dan Curtis', 'Daniel Haller', 'Danny Cannon', 'Dario Argento', 'Darren Grant', 'Darren Lynn Bousman', 'Dave Monahan', 'David Allen', 'David Anspaugh', 'David Ayer', 'David Bisbano', 'David Butler', 'David Cronenberg', 'David Dobkin', 'David G. Derrick Jr.', 'David Green', 'David L. Hewitt', 'David Lean', 'David Leitch', 'David Lynch', 'David Slade', 'David Wickes', 'Dean Parisot', 'Delbert Mann', 'Delmer Daves', 'Denis Sanders', 'Denis Villeneuve', 'Dennis Dugan', 'Dennis Hopper', 'Deran Sarafian', 'Derek Ford', 'Derek Lee', 'Diane Foster', 'Diego Cagide', 'Domingo González', 'Dominique Othenin-Girard', 'Don Murray', 'Don Siegel', 'Donald Wolfe', 'Donnie Yen', 'Doug Liman', 'Dougal Wilson', 'Dwight H. Little', 'E.L. Katz', 'Earl McEvoy', 'Edmund Goulding', 'Edward Berger', 'Edwin L. Marin', 'Eli Roth', 'Elia Kazan', 'Elio Petri', 'Elliot Silverstein', 'Elvira Serio', 'Emile Ardolino', 'Emilio Estevez', 'Emilio Fernández', 'Emilio Maillé', 'Enzo Barboni', 'Eric Darnell', 'Erik Bloomquist', 'Erle C. Kenton', 'Ernst Hofbauer', 'F. Gary Gray', 'Fede Álvarez', 'Federico Actis', 'Federico Fellini', 'Felix E. Feist', 'Fernando Meirelles', 'Florent-Emilio Siri', 'Ford Beebe', 'Francis Ford Coppola', 'Francis Lawrence', 'Franco Zeffirelli', 'Frank Capra', 'Frank Darabont', 'Frank Henenlotter', 'Frank Launder', 'Frank Marshall', 'Frank Nissen', 'Frank Pierson', 'Franklin J. Schaffner', 'François Truffaut', 'Fraser Clarke Heston', 'Fred Schepisi', 'Fred Zinnemann', 'Freddie Francis', 'Frederick de Cordova', 'Frederik Du Chau', 'Frederik Louis Hviid', 'Fritz Lang', 'Frédéric Jardin', 'Fung Fung', 'Férid Boughedir', 'Galder Gaztelu-Urrutia', 'Garry Marshall', 'Garth Jennings', 'Gary Chapman', 'Gary Sherman', 'Geoff Murphy', 'Geoffrey Sax', 'George A. Romero', 'George Armitage', 'George Blair', 'George Clooney', 'George Cukor', 'George Huang', 'George Lucas', 'George Marshall', 'George Miller', 'George Montgomery', 'George Nolfi', 'George Scribner', 'George Seaton', 'George Sherman', 'George Sidney', 'George T. Miller', 'George Templeton', 'Gerald Thomas', 'Gerry Lively', 'Gints Zilbalodis', 'Giuliano Carnimeo', 'Gonzalo Mellid', 'Gordon Douglas', 'Gordon Hessler', 'Goro Taniguchi', 'Gray Hofmeyr', 'Greg McLean', 'Greg Richardson', 'Gregg Araki', 'Griffin Yueh Feng', 'Guan Yue', 'Guillermo Barreira Pérez', 'Guy Ritchie', 'György Révész', 'H. C. Potter', 'Hal Walker', 'Halina Reijn', 'Hans Petter Moland', 'Harry Hook', 'Harvey Kahn', 'Hasse Ekman', 'Helmut Dziuba', 'Henry Barakat', 'Henry Cass', 'Henry Hathaway', 'Henry King', 'Henry Koster', 'Henry Levin', 'Herbert Ross', 'Herbert Wilcox', 'Hideo Nakata', 'Hirotsugu Kawasaki', 'Hisayasu Satô', 'Ho Meng-Hua', 'Howard Hawks', 'Howard J. Ford', 'Hugh Parks', 'Hugo Fregonese', 'Hunter Richards', 'Hy Averback', 'Iain Softley', 'Ian Vasquez', 'Ida Lupino', 'Irvin Kershner', 'Irving Pichel', 'Isabel Coixet', 'Ishirō Honda', 'Ivan Reitman', 'J.C. Chandor', 'J.J. Perry', 'JT Mollner', 'Jack Hannah', 'Jack Nicholson', 'Jack Starrett', 'Jacques Audiard', 'Jacques Demy', 'Jacques Deray', 'Jacques Tourneur', 'Jake Kasdan', 'James Mangold', 'James Orr', 'James V. Kern', 'James Watkins', 'Jamie Luk Kim-Ming', 'Jan Egleson', 'Jane Campion', 'Jang Jae-hyun', 'Jaromil Jireš', 'Jason Reitman', 'Jaume Collet-Serra', 'Jay Chandrasekhar', 'Jaze Bordeaux', 'Jean Cocteau', 'Jean Girault', 'Jean Negulesco', 'Jean Rollin', 'Jean-François Richet', 'Jean-Paul Rappeneau', 'Jean-Pierre Melville', 'Jeff Burr', 'Jeff Fowler', 'Jeffrey Lau', 'Jennifer Phang', 'Jeremy Saulnier', 'Jerry Zucker', 'Jesper Møller', 'Jesse Dylan', 'Jesse Eisenberg', 'Jessica Nilsson', 'Jesús Franco', 'Jian-Ping Li', 'Jill Gevargizian', 'Jim Abrahams', 'Jim Sheridan', 'Jimmy Sangster', 'Jimmy Wang Yu', 'Joan Frank Charansonnet', 'Joe Dante', 'Joe Sichta', 'Joe Wright', 'Joel Coen', 'Joel Schumacher', 'John Badham', 'John Cassavetes', 'John Cromwell', 'John Crowley', 'John Dahl', 'John English', 'John Farrow', 'John Ford', 'John Frankenheimer', 'John G. Avildsen', 'John Guillermin', 'John Gulager', 'John Harrison', 'John Huston', 'John Krasinski', 'John Lafia', 'John Maybury', 'John McTiernan', 'John Moffitt', 'John Newland', 'John Pasquin', 'John Patrick Shanley', 'John Polson', 'John Schlesinger', 'John Singleton', 'John Stockwell', 'John Sturges', 'John Waters', 'John Woo', 'Jojo Nadela', 'Jon Favreau', 'Jon M. Chu', 'Jon Watts', 'Jordan Castillo', 'Jorge Fons', 'Josef von Báky', 'Joseph Barbera', 'Joseph H. Lewis', 'Joseph Kane', 'Joseph L. Mankiewicz', 'Joseph Lerner', 'Joseph Losey', 'Joseph M. Newman', 'Joseph Pevney', 'Joseph Sargent', 'Josh Cooley', 'Joshua Dixon', 'Joss Whedon', 'José Luis Merino', 'Juan Carlos Fresnadillo', 'Judd Apatow', 'Jules Bass', 'Jules Dassin', 'Justin Baldoni', 'Justin Routt', 'K Raghavendra Rao', 'Kari Juusonen', 'Karyn Kusama', 'Kathryn Bigelow', 'Kazuo Yamazaki', 'Kelly Marcel', 'Kelsey Mann', 'Ken Hughes', 'Ken Loach', 'Kenji Kamiyama', 'Kenji Mizoguchi', 'Kevin Billington', 'Kevin Chu', 'Kevin Costner', 'Kevin Peaty', 'Kevin Rodney Sullivan', 'Kihachi Okamoto', 'Kim Eun-tae', 'Kim Jee-woon', 'Kim Sung-han', 'Kim Tae-gon', 'King Hu', 'Kirk Jones', 'Kishū Izuchi', 'Kiyotaka Oshiyama', 'Koji Shiraishi', 'Kongkiat Khomsiri', 'Koratala Siva', 'Kunihiko Yuyama', 'Kurt Nachmann', 'Kurt Neumann', 'Lam Nai-Choi', 'Lamont Johnson', 'Larry Cohen', 'Lasse Hallström', 'Lau Kar-Wing', 'Lauren Garroni', 'Laurence Olivier', 'Lawrence Guterman', 'Lawrence Kasdan', 'Lee Frost', 'Lee H. Katzin', 'Lee Jong-pil', 'Lee Tamahori', 'Leonard Kastle', 'Leonel Vieira', 'Lewis Allen', 'Lewis Gilbert', 'Lewis R. Foster', 'Lewis Teague', 'Lexi Alexander', 'Lindsay Shonteff', 'Lionel Jeffries', 'Lloyd Bacon', 'Lo Wei', 'Lo Yuen-Ming', 'Louis King', 'Louis Leterrier', 'Lowell Dean', 'Luc Besson', 'Luca Guadagnino', 'Lucía Alemany', 'Ludwig Peralta', 'Luis Buñuel', 'Luis Mandoki', 'Luis de la Madrid', 'M. Night Shyamalan', 'Mac Ahlberg', 'Maclean Rogers', 'Mahesh Bhatt', 'Mani Ratnam', 'Marc Forster', 'Marc Klasfeld', 'Marek Koterski', 'Mario Bava', 'Mark Dindal', 'Mark L. Lester', 'Mark Robson', 'Mark Rosman', 'Mark Waters', 'Martin B. Cohen', 'Martin Campbell', 'Martin Ritt', 'Martin Scorsese', 'Martin Sheen', 'Marçal Forés', 'Massimo Dallamano', 'Matías Bize', 'Max Barbakow', 'Max Ophüls', 'Megan Park', 'Melvin Frank', 'Michael Anderson', 'Michael Bay', 'Michael Caton-Jones', 'Michael Cimino', 'Michael Curtiz', 'Michael Goguen', 'Michael Gordon', 'Michael Gracey', 'Michael LaBash', 'Michael Lindsay-Hogg', 'Michael Mohan', 'Michael S. Ojeda', 'Michael Sarne', 'Michael Sarnoski', 'Michael Schultz', 'Michael Showalter', 'Michael Wadleigh', 'Michel Fessler', 'Michelangelo Antonioni', 'Michele Lupo', 'Michiel Blanchart', 'Michio Yamamoto', 'Mick Garris', 'Miguel Chávez', 'Miguel M. Delgado', 'Mikael Håfström', 'Mike Bigelow', 'Mike Disa', 'Mike Figgis', 'Mike Johnson', 'Mike Mitchell', 'Mike Newell', 'Mike Nichols', 'Mikheil Chiaureli', 'Mitchell Leisen', 'Mitsuo Hashimoto', 'Morton M. Lewis', 'Mukul Anand', 'Mukunda Michael Dewil', 'Nag Ashwin', 'Naoyuki Ito', 'Neil Marshall', 'Nicholas Ray', 'Nick Park', 'Nicolas Roeg', 'Nikhil Nagesh Bhat', 'Noah Baumbach', 'Nora Ephron', 'Norman Foster', 'Olivier Schneider', 'Olle Hellbom', 'Osamu Tezuka', 'Osgood Perkins', 'Ossie Davis', 'Otto Preminger', 'Paco del Toro', 'Park Chan-wook', 'Parker Finn', 'Pasquale Festa Campanile', 'Pat Boonnitipat', 'Pat Jackson', 'Patrice Leconte', 'Patrick Lussier', 'Patrick Rand', 'Paul Brickman', 'Paul Haggis', 'Paul Schrader', 'Paul Sloane', 'Paul Verhoeven', 'Paul Wendkos', 'Pedro Almodóvar', 'Peony Ma Siu-Ling', 'Pete Michels', 'Peter Browngardt', 'Peter Collinson', 'Peter Farrelly', 'Peter Godfrey', 'Peter Hall', 'Peter Hyams', 'Peter Jackson', 'Peter Keglevic', 'Peter Markle', 'Peter Sasdy', 'Peter Segal', 'Peter Weir', 'Peter Werner', 'Phil Joanou', 'Phil Karlson', 'Philip Kaufman', 'Philip Ridley', 'Philippe de Broca', 'Pier Paolo Pasolini', 'Pierre Granier-Deferre', 'Pierre Morel', 'Pierre Richard', 'Prachya Pinkaew', 'Priyadarshan', 'Pål Sletaune', 'R.G. Springsteen', 'RaMell Ross', 'Radley Metzger', 'Raj Kapoor', 'Rajkumar Periasamy', 'Rajkumar Santoshi', 'Ralph Nelson', 'Ralph S. Singleton', 'Ralph Smart', 'Ram Gopal Varma', 'Ramesh Saigal', 'Randal Kleiser', 'Randall Emmett', 'Ravikant Nagaich', 'Ray Enright', 'Raymond Lee Wai-Man', 'Raúl de Anda', 'Reginald Hudlin', 'Reginald Le Borg', 'Reijirō Usuzaka', 'Renny Harlin', 'René Clément', 'Rhys Frake-Waterfield', 'Rich Correll', 'Richard Benjamin', 'Richard Brooks', 'Richard Compton', 'Richard Donner', 'Richard Fleischer', 'Richard Linklater', 'Richard Pearce', 'Richard Rush', 'Richard Sale', 'Richard Shepard', 'Richard Stanley', 'Richard Thorpe', 'Richard Whorf', 'Rick Sloane', 'Ricky Lau', 'Ridley Scott', 'Rigoberto Castañeda', 'Rob Bowman', 'Rob Cohen', 'Rob Marshall', 'Rob McKittrick', 'Rob Reiner', 'Rob Zombie', 'Robert Altman', 'Robert Alton', 'Robert Cannon', 'Robert Caramico', 'Robert Eggers', 'Robert Fuest', 'Robert Luketic', 'Robert Montgomery', 'Robert Rodriguez', 'Robert Salerno', 'Robert Schwentke', 'Robert Stevenson', \"Robert Vincent O'Neil\", 'Robert Wise', 'Robert Zemeckis', 'Roberto Mauri', 'Roberto Rossellini', 'Roel Reiné', 'Rogelio A. González', 'Roger Donaldson', 'Roger Kumble', 'Roger Spottiswoode', 'Roland Emmerich', 'Roman Polanski', 'Ron Howard', 'Ron Kelly', 'Ron Underwood', 'Ronald Neame', 'Rose Glass', 'Roy Andersson', 'Roy Boulting', 'Roy Rowland', 'Roy Ward Baker', 'Rudolph Maté', 'Rupert Sanders', 'Rupert Wainwright', 'Russ Meyer', 'Ryoo Seung-wan', 'S.J. Clarkson', 'S.U. Sunny', 'SK Dale', 'Sadao Nakajima', 'Sam Mendes', 'Sam Peckinpah', 'Sam Raimi', 'Sam Wood', 'Samuel Fuller', 'Sanjay Leela Bhansali', 'Satyajit Ray', 'Saul Blinkoff', 'Scott Beck', 'Scott Derrickson', 'Sean Baker', 'Seiji Mizushima', 'Serge Korber', 'Sergey Bondarchuk', 'Sergio Corbucci', 'Sergio Pereda', 'Sergio Sollima', 'Serik Beyseu', 'Seymour Robbie', 'Shane Black', 'Shankar', 'Shawn Levy', 'Sheldon Lettich', 'Shinobu Sasaki', 'Shinsuke Sato', 'Shunsuke Ishikawa', 'Shunsuke Nakashige', 'Sidney Gilliat', 'Sidney Lumet', 'Sig Shore', 'Silvio Narizzano', 'Simon West', 'Simon Wincer', 'Singeetam Srinivasa Rao', 'Sion Sono', 'Soi Cheang', 'Sondra Locke', 'Spenser Cohen', 'Spike Lee', 'Sreenu Vaitla', 'Stanko Crnobrnja', 'Stanley Tong Gwai-Lai', 'Stephen Frears', 'Stephen Gaghan', 'Stephen Hopkins', 'Stephen Tung', 'Steve Barron', 'Steve Box', 'Steve Rash', 'Steven C. Miller', 'Steven Spielberg', 'Stuart Burge', 'Stuart E. McGowan', 'Stuart Gillard', 'Stuart Heisler', 'Suneel Darshan', 'Susan Béjar', 'Susan Stroman', 'Sydney Pollack', 'Takahiro Miki', 'Takashi Miike', 'Takeshi Kitano', 'Tania Vincent', 'Taweewat Wantha', 'Ted Post', 'Ted Tetzlaff', 'Tensai Okamura', 'Terence Young', 'Terrence Malick', 'Terry Gilliam', 'Tetsuya Nomura', 'Thanadol Nuansut', 'Thierry Notz', 'Thomas Astruc', 'Thomas Bezucha', 'Thomas Carter', 'Thor Heyerdahl', 'Ti West', 'Tiffany Paulsen', 'Tim Burton', 'Tim Fywell', 'Tim Maltby', 'Tim Story', 'Timo Vuorensola', 'Todd Phillips', 'Tom Savini', 'Tony Ching Siu-Tung', 'Tony Devlin', 'Tony Giglio', 'Tony Richardson', 'Tony Scott', 'Toshiya Fujita', 'Tyler Gillett', 'Unknown', 'Val Guest', 'Vic Morrow', 'Vicky Jenson', 'Victor Faccinto', 'Victor Salva', 'Victor Saville', 'Vince Martin', 'Vincent Sherman', 'Vincente Minnelli', 'Vittorio De Sica', 'Volker Schlöndorff', 'Walter Grauman', 'Walter Hill', 'Walter Lang', 'Walter Salles', 'Warren Beatty', 'Wellson Chin Sing-Wai', 'Werner Herzog', 'Wes Ball', 'Wes Craven', 'William A. Seiter', 'William A. Wellman', 'William Berke', 'William Dieterle', 'William Eubank', 'William Keighley', 'William Lustig', 'William Peter Blatty', 'William Templeton', 'William Witney', 'Wilson Yip', 'Wolfgang Becker', 'Wolfgang Reitherman', 'Wong Jing', 'Wong Kar-wai', 'Woody Allen', 'Xavier Gens', 'Yang Bingjia', 'Yasuharu Hasebe', 'Yasuichiro Yamamoto', 'Yasujirō Ozu', 'Yasuki Chiba', 'Yoshishige Yoshida', 'Yuen Woo-Ping', 'Yuichiro Hayashi', 'Yuji Tanno', 'Yuri Ozerov', 'Yutaka Abe', 'Yves Ciampi', 'Zhang Luan', 'Zhang Yimou', 'Zoë Kravitz', 'Éric Rohmer', 'Étienne Chatiliez']\n"
     ]
    }
   ],
   "source": [
    "# Normalización de los nombres de director\n",
    "\n",
    "df = pd.read_csv('../notebooks/data/movies_paso1_limpieza.csv')\n",
    "\n",
    "directores = df['director'].value_counts(dropna=False)\n",
    "print(directores,\"\\n\")\n",
    "\n",
    "directores_unicos = set()\n",
    "\n",
    "for entry in df[\"director\"].dropna():\n",
    "    for director in entry.split(\",\"):\n",
    "        directores_unicos.add(director.strip())\n",
    "\n",
    "print(sorted(directores_unicos))"
   ]
  },
  {
   "cell_type": "code",
   "execution_count": 69,
   "id": "55a277c4-7d3c-4400-a63f-d16fc103c29f",
   "metadata": {},
   "outputs": [],
   "source": [
    "correcciones_directores = {\n",
    "    'Alan Mak Siu-Fai': 'Alan Mak',\n",
    "    'Benny Chan Muk-Sing': 'Benny Chan',\n",
    "    'Corey Yuen Kwai': 'Corey Yuen',\n",
    "    'Jess Franco': 'Jesús Franco',\n",
    "    'Joseph L. Mankiewicz': 'Joseph Mankiewicz'\n",
    "}\n",
    "df['director'] = df['director'].replace(correcciones_directores)\n",
    "    "
   ]
  },
  {
   "cell_type": "code",
   "execution_count": 73,
   "id": "6cbcd1c8-38e4-4f6a-bb74-0b30d299492e",
   "metadata": {},
   "outputs": [
    {
     "name": "stdout",
     "output_type": "stream",
     "text": [
      "director\n",
      "Gordon Douglas         7\n",
      "Akira Kurosawa         4\n",
      "Anthony Mann           4\n",
      "John Sturges           3\n",
      "Jesús Franco           3\n",
      "                      ..\n",
      "Chris Wedge            1\n",
      "Andrew Niccol          1\n",
      "Ang Lee                1\n",
      "Darren Lynn Bousman    1\n",
      "Zhang Yimou            1\n",
      "Name: count, Length: 859, dtype: int64 \n",
      "\n",
      "['Aaron Norris', 'Abbas Kiarostami', 'Abel Ferrara', 'Abraham Polonsky', 'Adam Elliot', 'Adam Rehmeier', 'Adam Shankman', 'Adam Simon', 'Adam Stern', 'Adam Wingard', 'Adil El Arbi', 'Adrian Lyne', 'Agnieszka Holland', 'Aki Kaurismäki', 'Akira Kurosawa', 'Alain Robbe-Grillet', 'Alan J. Pakula', 'Alan Le May', 'Alan Mak', 'Albert Pyun', 'Alberto Bevilacqua', 'Alejandro Jodorowsky', 'Alessandro Genovesi', 'Alex Garland', 'Alexander Hall', 'Alexandre de La Patellière', 'Alfred E. Green', 'Alfred Hitchcock', 'Allan Dwan', 'Allan Moyle', 'Allen Kool', 'Alvin Rakoff', 'Amy Heckerling', 'Andrew Adamson', 'Andrew Bergman', 'Andrew Douglas', 'Andrew Niccol', 'Andrew V. McLaglen', 'Andrzej Bartkowiak', 'André Cayatte', 'Andy Edwards', 'Andy Milligan', 'Andy Sidaris', 'Andy Tennant', 'Ang Lee', 'Angela Robinson', 'Anthony Asquith', 'Anthony Chan Yau', 'Anthony Mann', 'Anthony Schatteman', 'Antonio Margheriti', 'Antony Balch', 'Ariel Vromen', 'Ariel Winograd', 'Arkasha Stevenson', 'Arthur Allan Seidelman', 'Arthur Hiller', 'Arthur Lubin', 'Arthur Marks', 'Arthur Penn', 'Baim Wong', 'Banmei Takahashi', 'Barbara Kopple', 'Barbara Loden', 'Barbet Schroeder', 'Barry Jenkins', 'Basil Dearden', 'Ben Smallbone', 'Benjamin Brewer', 'Bennett Miller', 'Benny Chan', 'Bent Christensen', 'Bernardo Bertolucci', 'Bertrand Blier', 'Bigas Luna', 'Bilguun Chuluundorj', 'Bill Bixby', 'Bill Kopp', 'Bill Milling', 'Bill Murray', 'Bill Paxton', 'Bille Woodruff', 'Billy Wilder', 'Blackie Ko', 'Blake Edwards', 'Bob Clark', 'Bob Hathcock', 'Bob Kelljan', 'Bob Logan', 'Bob Rafelson', 'Bob Shellhorn', 'Bobby Bonifacio', 'Brad Turner', 'Brady Corbet', 'Brandon Slagle', 'Brandon Vietti', 'Breck Eisner', 'Brent Shields', 'Bretaigne Windust', 'Brian De Palma', 'Brian G. Hutton', 'Brian Levant', 'Brian Smith', 'Brian Yuzna', 'Bruce Hunt', 'Bruce Malmuth', 'Burt Kennedy', 'Byron Haskin', 'Calvin Morie McCarthy', 'Cameron Cairnes', 'Cameron Crowe', 'Carles Torrens', 'Carlson Young', 'Cedric Sundstrom', 'Chander Vohra', 'Chang Cheh', 'Charles August Nichols', 'Charles Barton', 'Charles Crichton', 'Charles Frend', 'Charles Lamont', 'Charles Walters', 'Charlotte Zwerin', 'Chen Kaige', 'Cheng Kang', 'Cheng Siyi', 'Chris Columbus', 'Chris Renaud', 'Chris Sanders', 'Chris Wedge', 'Christian Carion', 'Christophe Honoré', 'Christopher Nolan', 'Chuck Jones', 'Clare Kilner', 'Clarence Brown', 'Clarence Ford', 'Claude Chabrol', 'Claude Sautet', 'Claudio Fragasso', 'Claudio Fäh', 'Clint Eastwood', 'Clive Barker', 'Clyde Geronimi', 'Colm McCarthy', 'Compton Bennett', 'Coralie Fargeat', 'Corey Yuen', 'Cory Edwards', 'Craig R. Baxley', 'Curtis Hanson', 'D.J. Caruso', 'Daisuke Nishio', 'Damian Mc Carthy', 'Damien Leone', 'Dan Curtis', 'Daniel Haller', 'Danny Cannon', 'Dario Argento', 'Darren Grant', 'Darren Lynn Bousman', 'Dave Monahan', 'David Allen', 'David Anspaugh', 'David Ayer', 'David Bisbano', 'David Butler', 'David Cronenberg', 'David Dobkin', 'David G. Derrick Jr.', 'David Green', 'David L. Hewitt', 'David Lean', 'David Leitch', 'David Lynch', 'David Slade', 'David Wickes', 'Dean Parisot', 'Delbert Mann', 'Delmer Daves', 'Denis Sanders', 'Denis Villeneuve', 'Dennis Dugan', 'Dennis Hopper', 'Deran Sarafian', 'Derek Ford', 'Derek Lee', 'Diane Foster', 'Diego Cagide', 'Domingo González', 'Dominique Othenin-Girard', 'Don Murray', 'Don Siegel', 'Donald Wolfe', 'Donnie Yen', 'Doug Liman', 'Dougal Wilson', 'Dwight H. Little', 'E.L. Katz', 'Earl McEvoy', 'Edmund Goulding', 'Edward Berger', 'Edwin L. Marin', 'Eli Roth', 'Elia Kazan', 'Elio Petri', 'Elliot Silverstein', 'Elvira Serio', 'Emile Ardolino', 'Emilio Estevez', 'Emilio Fernández', 'Emilio Maillé', 'Enzo Barboni', 'Eric Darnell', 'Erik Bloomquist', 'Erle C. Kenton', 'Ernst Hofbauer', 'F. Gary Gray', 'Fede Álvarez', 'Federico Actis', 'Federico Fellini', 'Felix E. Feist', 'Fernando Meirelles', 'Florent-Emilio Siri', 'Ford Beebe', 'Francis Ford Coppola', 'Francis Lawrence', 'Franco Zeffirelli', 'Frank Capra', 'Frank Darabont', 'Frank Henenlotter', 'Frank Launder', 'Frank Marshall', 'Frank Nissen', 'Frank Pierson', 'Franklin J. Schaffner', 'François Truffaut', 'Fraser Clarke Heston', 'Fred Schepisi', 'Fred Zinnemann', 'Freddie Francis', 'Frederick de Cordova', 'Frederik Du Chau', 'Frederik Louis Hviid', 'Fritz Lang', 'Frédéric Jardin', 'Fung Fung', 'Férid Boughedir', 'Galder Gaztelu-Urrutia', 'Garry Marshall', 'Garth Jennings', 'Gary Chapman', 'Gary Sherman', 'Geoff Murphy', 'Geoffrey Sax', 'George A. Romero', 'George Armitage', 'George Blair', 'George Clooney', 'George Cukor', 'George Huang', 'George Lucas', 'George Marshall', 'George Miller', 'George Montgomery', 'George Nolfi', 'George Scribner', 'George Seaton', 'George Sherman', 'George Sidney', 'George T. Miller', 'George Templeton', 'Gerald Thomas', 'Gerry Lively', 'Gints Zilbalodis', 'Giuliano Carnimeo', 'Gonzalo Mellid', 'Gordon Douglas', 'Gordon Hessler', 'Goro Taniguchi', 'Gray Hofmeyr', 'Greg McLean', 'Greg Richardson', 'Gregg Araki', 'Griffin Yueh Feng', 'Guan Yue', 'Guillermo Barreira Pérez', 'Guy Ritchie', 'György Révész', 'H. C. Potter', 'Hal Walker', 'Halina Reijn', 'Hans Petter Moland', 'Harry Hook', 'Harvey Kahn', 'Hasse Ekman', 'Helmut Dziuba', 'Henry Barakat', 'Henry Cass', 'Henry Hathaway', 'Henry King', 'Henry Koster', 'Henry Levin', 'Herbert Ross', 'Herbert Wilcox', 'Hideo Nakata', 'Hirotsugu Kawasaki', 'Hisayasu Satô', 'Ho Meng-Hua', 'Howard Hawks', 'Howard J. Ford', 'Hugh Parks', 'Hugo Fregonese', 'Hunter Richards', 'Hy Averback', 'Iain Softley', 'Ian Vasquez', 'Ida Lupino', 'Irvin Kershner', 'Irving Pichel', 'Isabel Coixet', 'Ishirō Honda', 'Ivan Reitman', 'J.C. Chandor', 'J.J. Perry', 'JT Mollner', 'Jack Hannah', 'Jack Nicholson', 'Jack Starrett', 'Jacques Audiard', 'Jacques Demy', 'Jacques Deray', 'Jacques Tourneur', 'Jake Kasdan', 'James Mangold', 'James Orr', 'James V. Kern', 'James Watkins', 'Jamie Luk Kim-Ming', 'Jan Egleson', 'Jane Campion', 'Jang Jae-hyun', 'Jaromil Jireš', 'Jason Reitman', 'Jaume Collet-Serra', 'Jay Chandrasekhar', 'Jaze Bordeaux', 'Jean Cocteau', 'Jean Girault', 'Jean Negulesco', 'Jean Rollin', 'Jean-François Richet', 'Jean-Paul Rappeneau', 'Jean-Pierre Melville', 'Jeff Burr', 'Jeff Fowler', 'Jeffrey Lau', 'Jennifer Phang', 'Jeremy Saulnier', 'Jerry Zucker', 'Jesper Møller', 'Jesse Dylan', 'Jesse Eisenberg', 'Jessica Nilsson', 'Jesús Franco', 'Jian-Ping Li', 'Jill Gevargizian', 'Jim Abrahams', 'Jim Sheridan', 'Jimmy Sangster', 'Jimmy Wang Yu', 'Joan Frank Charansonnet', 'Joe Dante', 'Joe Sichta', 'Joe Wright', 'Joel Coen', 'Joel Schumacher', 'John Badham', 'John Cassavetes', 'John Cromwell', 'John Crowley', 'John Dahl', 'John English', 'John Farrow', 'John Ford', 'John Frankenheimer', 'John G. Avildsen', 'John Guillermin', 'John Gulager', 'John Harrison', 'John Huston', 'John Krasinski', 'John Lafia', 'John Maybury', 'John McTiernan', 'John Moffitt', 'John Newland', 'John Pasquin', 'John Patrick Shanley', 'John Polson', 'John Schlesinger', 'John Singleton', 'John Stockwell', 'John Sturges', 'John Waters', 'John Woo', 'Jojo Nadela', 'Jon Favreau', 'Jon M. Chu', 'Jon Watts', 'Jordan Castillo', 'Jorge Fons', 'Josef von Báky', 'Joseph Barbera', 'Joseph H. Lewis', 'Joseph Kane', 'Joseph Lerner', 'Joseph Losey', 'Joseph M. Newman', 'Joseph Mankiewicz', 'Joseph Pevney', 'Joseph Sargent', 'Josh Cooley', 'Joshua Dixon', 'Joss Whedon', 'José Luis Merino', 'Juan Carlos Fresnadillo', 'Judd Apatow', 'Jules Bass', 'Jules Dassin', 'Justin Baldoni', 'Justin Routt', 'K Raghavendra Rao', 'Kari Juusonen', 'Karyn Kusama', 'Kathryn Bigelow', 'Kazuo Yamazaki', 'Kelly Marcel', 'Kelsey Mann', 'Ken Hughes', 'Ken Loach', 'Kenji Kamiyama', 'Kenji Mizoguchi', 'Kevin Billington', 'Kevin Chu', 'Kevin Costner', 'Kevin Peaty', 'Kevin Rodney Sullivan', 'Kihachi Okamoto', 'Kim Eun-tae', 'Kim Jee-woon', 'Kim Sung-han', 'Kim Tae-gon', 'King Hu', 'Kirk Jones', 'Kishū Izuchi', 'Kiyotaka Oshiyama', 'Koji Shiraishi', 'Kongkiat Khomsiri', 'Koratala Siva', 'Kunihiko Yuyama', 'Kurt Nachmann', 'Kurt Neumann', 'Lam Nai-Choi', 'Lamont Johnson', 'Larry Cohen', 'Lasse Hallström', 'Lau Kar-Wing', 'Lauren Garroni', 'Laurence Olivier', 'Lawrence Guterman', 'Lawrence Kasdan', 'Lee Frost', 'Lee H. Katzin', 'Lee Jong-pil', 'Lee Tamahori', 'Leonard Kastle', 'Leonel Vieira', 'Lewis Allen', 'Lewis Gilbert', 'Lewis R. Foster', 'Lewis Teague', 'Lexi Alexander', 'Lindsay Shonteff', 'Lionel Jeffries', 'Lloyd Bacon', 'Lo Wei', 'Lo Yuen-Ming', 'Louis King', 'Louis Leterrier', 'Lowell Dean', 'Luc Besson', 'Luca Guadagnino', 'Lucía Alemany', 'Ludwig Peralta', 'Luis Buñuel', 'Luis Mandoki', 'Luis de la Madrid', 'M. Night Shyamalan', 'Mac Ahlberg', 'Maclean Rogers', 'Mahesh Bhatt', 'Mani Ratnam', 'Marc Forster', 'Marc Klasfeld', 'Marek Koterski', 'Mario Bava', 'Mark Dindal', 'Mark L. Lester', 'Mark Robson', 'Mark Rosman', 'Mark Waters', 'Martin B. Cohen', 'Martin Campbell', 'Martin Ritt', 'Martin Scorsese', 'Martin Sheen', 'Marçal Forés', 'Massimo Dallamano', 'Matías Bize', 'Max Barbakow', 'Max Ophüls', 'Megan Park', 'Melvin Frank', 'Michael Anderson', 'Michael Bay', 'Michael Caton-Jones', 'Michael Cimino', 'Michael Curtiz', 'Michael Goguen', 'Michael Gordon', 'Michael Gracey', 'Michael LaBash', 'Michael Lindsay-Hogg', 'Michael Mohan', 'Michael S. Ojeda', 'Michael Sarne', 'Michael Sarnoski', 'Michael Schultz', 'Michael Showalter', 'Michael Wadleigh', 'Michel Fessler', 'Michelangelo Antonioni', 'Michele Lupo', 'Michiel Blanchart', 'Michio Yamamoto', 'Mick Garris', 'Miguel Chávez', 'Miguel M. Delgado', 'Mikael Håfström', 'Mike Bigelow', 'Mike Disa', 'Mike Figgis', 'Mike Johnson', 'Mike Mitchell', 'Mike Newell', 'Mike Nichols', 'Mikheil Chiaureli', 'Mitchell Leisen', 'Mitsuo Hashimoto', 'Morton M. Lewis', 'Mukul Anand', 'Mukunda Michael Dewil', 'Nag Ashwin', 'Naoyuki Ito', 'Neil Marshall', 'Nicholas Ray', 'Nick Park', 'Nicolas Roeg', 'Nikhil Nagesh Bhat', 'Noah Baumbach', 'Nora Ephron', 'Norman Foster', 'Olivier Schneider', 'Olle Hellbom', 'Osamu Tezuka', 'Osgood Perkins', 'Ossie Davis', 'Otto Preminger', 'Paco del Toro', 'Park Chan-wook', 'Parker Finn', 'Pasquale Festa Campanile', 'Pat Boonnitipat', 'Pat Jackson', 'Patrice Leconte', 'Patrick Lussier', 'Patrick Rand', 'Paul Brickman', 'Paul Haggis', 'Paul Schrader', 'Paul Sloane', 'Paul Verhoeven', 'Paul Wendkos', 'Pedro Almodóvar', 'Peony Ma Siu-Ling', 'Pete Michels', 'Peter Browngardt', 'Peter Collinson', 'Peter Farrelly', 'Peter Godfrey', 'Peter Hall', 'Peter Hyams', 'Peter Jackson', 'Peter Keglevic', 'Peter Markle', 'Peter Sasdy', 'Peter Segal', 'Peter Weir', 'Peter Werner', 'Phil Joanou', 'Phil Karlson', 'Philip Kaufman', 'Philip Ridley', 'Philippe de Broca', 'Pier Paolo Pasolini', 'Pierre Granier-Deferre', 'Pierre Morel', 'Pierre Richard', 'Prachya Pinkaew', 'Priyadarshan', 'Pål Sletaune', 'R.G. Springsteen', 'RaMell Ross', 'Radley Metzger', 'Raj Kapoor', 'Rajkumar Periasamy', 'Rajkumar Santoshi', 'Ralph Nelson', 'Ralph S. Singleton', 'Ralph Smart', 'Ram Gopal Varma', 'Ramesh Saigal', 'Randal Kleiser', 'Randall Emmett', 'Ravikant Nagaich', 'Ray Enright', 'Raymond Lee Wai-Man', 'Raúl de Anda', 'Reginald Hudlin', 'Reginald Le Borg', 'Reijirō Usuzaka', 'Renny Harlin', 'René Clément', 'Rhys Frake-Waterfield', 'Rich Correll', 'Richard Benjamin', 'Richard Brooks', 'Richard Compton', 'Richard Donner', 'Richard Fleischer', 'Richard Linklater', 'Richard Pearce', 'Richard Rush', 'Richard Sale', 'Richard Shepard', 'Richard Stanley', 'Richard Thorpe', 'Richard Whorf', 'Rick Sloane', 'Ricky Lau', 'Ridley Scott', 'Rigoberto Castañeda', 'Rob Bowman', 'Rob Cohen', 'Rob Marshall', 'Rob McKittrick', 'Rob Reiner', 'Rob Zombie', 'Robert Altman', 'Robert Alton', 'Robert Cannon', 'Robert Caramico', 'Robert Eggers', 'Robert Fuest', 'Robert Luketic', 'Robert Montgomery', 'Robert Rodriguez', 'Robert Salerno', 'Robert Schwentke', 'Robert Stevenson', \"Robert Vincent O'Neil\", 'Robert Wise', 'Robert Zemeckis', 'Roberto Mauri', 'Roberto Rossellini', 'Roel Reiné', 'Rogelio A. González', 'Roger Donaldson', 'Roger Kumble', 'Roger Spottiswoode', 'Roland Emmerich', 'Roman Polanski', 'Ron Howard', 'Ron Kelly', 'Ron Underwood', 'Ronald Neame', 'Rose Glass', 'Roy Andersson', 'Roy Boulting', 'Roy Rowland', 'Roy Ward Baker', 'Rudolph Maté', 'Rupert Sanders', 'Rupert Wainwright', 'Russ Meyer', 'Ryoo Seung-wan', 'S.J. Clarkson', 'S.U. Sunny', 'SK Dale', 'Sadao Nakajima', 'Sam Mendes', 'Sam Peckinpah', 'Sam Raimi', 'Sam Wood', 'Samuel Fuller', 'Sanjay Leela Bhansali', 'Satyajit Ray', 'Saul Blinkoff', 'Scott Beck', 'Scott Derrickson', 'Sean Baker', 'Seiji Mizushima', 'Serge Korber', 'Sergey Bondarchuk', 'Sergio Corbucci', 'Sergio Pereda', 'Sergio Sollima', 'Serik Beyseu', 'Seymour Robbie', 'Shane Black', 'Shankar', 'Shawn Levy', 'Sheldon Lettich', 'Shinobu Sasaki', 'Shinsuke Sato', 'Shunsuke Ishikawa', 'Shunsuke Nakashige', 'Sidney Gilliat', 'Sidney Lumet', 'Sig Shore', 'Silvio Narizzano', 'Simon West', 'Simon Wincer', 'Singeetam Srinivasa Rao', 'Sion Sono', 'Soi Cheang', 'Sondra Locke', 'Spenser Cohen', 'Spike Lee', 'Sreenu Vaitla', 'Stanko Crnobrnja', 'Stanley Tong Gwai-Lai', 'Stephen Frears', 'Stephen Gaghan', 'Stephen Hopkins', 'Stephen Tung', 'Steve Barron', 'Steve Box', 'Steve Rash', 'Steven C. Miller', 'Steven Spielberg', 'Stuart Burge', 'Stuart E. McGowan', 'Stuart Gillard', 'Stuart Heisler', 'Suneel Darshan', 'Susan Béjar', 'Susan Stroman', 'Sydney Pollack', 'Takahiro Miki', 'Takashi Miike', 'Takeshi Kitano', 'Tania Vincent', 'Taweewat Wantha', 'Ted Post', 'Ted Tetzlaff', 'Tensai Okamura', 'Terence Young', 'Terrence Malick', 'Terry Gilliam', 'Tetsuya Nomura', 'Thanadol Nuansut', 'Thierry Notz', 'Thomas Astruc', 'Thomas Bezucha', 'Thomas Carter', 'Thor Heyerdahl', 'Ti West', 'Tiffany Paulsen', 'Tim Burton', 'Tim Fywell', 'Tim Maltby', 'Tim Story', 'Timo Vuorensola', 'Todd Phillips', 'Tom Savini', 'Tony Ching Siu-Tung', 'Tony Devlin', 'Tony Giglio', 'Tony Richardson', 'Tony Scott', 'Toshiya Fujita', 'Tyler Gillett', 'Unknown', 'Val Guest', 'Vic Morrow', 'Vicky Jenson', 'Victor Faccinto', 'Victor Salva', 'Victor Saville', 'Vince Martin', 'Vincent Sherman', 'Vincente Minnelli', 'Vittorio De Sica', 'Volker Schlöndorff', 'Walter Grauman', 'Walter Hill', 'Walter Lang', 'Walter Salles', 'Warren Beatty', 'Wellson Chin Sing-Wai', 'Werner Herzog', 'Wes Ball', 'Wes Craven', 'William A. Seiter', 'William A. Wellman', 'William Berke', 'William Dieterle', 'William Eubank', 'William Keighley', 'William Lustig', 'William Peter Blatty', 'William Templeton', 'William Witney', 'Wilson Yip', 'Wolfgang Becker', 'Wolfgang Reitherman', 'Wong Jing', 'Wong Kar-wai', 'Woody Allen', 'Xavier Gens', 'Yang Bingjia', 'Yasuharu Hasebe', 'Yasuichiro Yamamoto', 'Yasujirō Ozu', 'Yasuki Chiba', 'Yoshishige Yoshida', 'Yuen Woo-Ping', 'Yuichiro Hayashi', 'Yuji Tanno', 'Yuri Ozerov', 'Yutaka Abe', 'Yves Ciampi', 'Zhang Luan', 'Zhang Yimou', 'Zoë Kravitz', 'Éric Rohmer', 'Étienne Chatiliez']\n"
     ]
    }
   ],
   "source": [
    "directores = df['director'].value_counts(dropna=False)\n",
    "print(directores,\"\\n\")\n",
    "\n",
    "directores_unicos = set()\n",
    "\n",
    "for entry in df[\"director\"].dropna():\n",
    "    for director in entry.split(\",\"):\n",
    "        directores_unicos.add(director.strip())\n",
    "\n",
    "print(sorted(directores_unicos))"
   ]
  },
  {
   "cell_type": "code",
   "execution_count": 75,
   "id": "d855b2fb-7d15-49cf-9bb3-d000bdd9f653",
   "metadata": {},
   "outputs": [],
   "source": [
    "# Guardamos \n",
    "df.to_csv(\"data/movies_limpios.csv\", index=False)"
   ]
  },
  {
   "cell_type": "code",
   "execution_count": null,
   "id": "0d6a9b22-c8f2-4ed7-bbda-6239e77aaae9",
   "metadata": {},
   "outputs": [],
   "source": []
  }
 ],
 "metadata": {
  "kernelspec": {
   "display_name": "Python 3 (ipykernel)",
   "language": "python",
   "name": "python3"
  },
  "language_info": {
   "codemirror_mode": {
    "name": "ipython",
    "version": 3
   },
   "file_extension": ".py",
   "mimetype": "text/x-python",
   "name": "python",
   "nbconvert_exporter": "python",
   "pygments_lexer": "ipython3",
   "version": "3.12.4"
  }
 },
 "nbformat": 4,
 "nbformat_minor": 5
}
